{
 "cells": [
  {
   "cell_type": "code",
   "execution_count": 58,
   "id": "601efcfc",
   "metadata": {},
   "outputs": [],
   "source": [
    "# For data handling and manipulation\n",
    "import pandas as pd\n",
    "import numpy as np\n",
    "\n",
    "# For data visualization (optional, but useful for understanding data)\n",
    "import matplotlib.pyplot as plt\n",
    "import seaborn as sns\n",
    "\n",
    "# For machine learning\n",
    "from sklearn.model_selection import train_test_split\n",
    "from sklearn.preprocessing import LabelEncoder, OneHotEncoder\n",
    "from sklearn.compose import ColumnTransformer\n",
    "from sklearn.linear_model import LinearRegression\n",
    "from sklearn.metrics import mean_squared_error\n",
    "\n"
   ]
  },
  {
   "cell_type": "code",
   "execution_count": 59,
   "id": "89c502f9",
   "metadata": {},
   "outputs": [
    {
     "name": "stdout",
     "output_type": "stream",
     "text": [
      "   car_ID  symboling                   CarName fueltype aspiration doornumber  \\\n",
      "0       1          3        alfa-romero giulia      gas        std        two   \n",
      "1       2          3       alfa-romero stelvio      gas        std        two   \n",
      "2       3          1  alfa-romero Quadrifoglio      gas        std        two   \n",
      "3       4          2               audi 100 ls      gas        std       four   \n",
      "4       5          2                audi 100ls      gas        std       four   \n",
      "\n",
      "       carbody drivewheel enginelocation  wheelbase  ...  enginesize  \\\n",
      "0  convertible        rwd          front       88.6  ...         130   \n",
      "1  convertible        rwd          front       88.6  ...         130   \n",
      "2    hatchback        rwd          front       94.5  ...         152   \n",
      "3        sedan        fwd          front       99.8  ...         109   \n",
      "4        sedan        4wd          front       99.4  ...         136   \n",
      "\n",
      "   fuelsystem  boreratio  stroke compressionratio horsepower  peakrpm citympg  \\\n",
      "0        mpfi       3.47    2.68              9.0        111     5000      21   \n",
      "1        mpfi       3.47    2.68              9.0        111     5000      21   \n",
      "2        mpfi       2.68    3.47              9.0        154     5000      19   \n",
      "3        mpfi       3.19    3.40             10.0        102     5500      24   \n",
      "4        mpfi       3.19    3.40              8.0        115     5500      18   \n",
      "\n",
      "   highwaympg    price  \n",
      "0          27  13495.0  \n",
      "1          27  16500.0  \n",
      "2          26  16500.0  \n",
      "3          30  13950.0  \n",
      "4          22  17450.0  \n",
      "\n",
      "[5 rows x 26 columns]\n"
     ]
    }
   ],
   "source": [
    "# Load the dataset\n",
    "car_data = pd.read_csv(r'C:\\Users\\Gladiator\\Documents\\Untitled Folder\\CarPrice_Assignment.csv')  \n",
    "\n",
    "# Display the first few rows of the data\n",
    "print(car_data.head())\n"
   ]
  },
  {
   "cell_type": "code",
   "execution_count": 60,
   "id": "c8585fec",
   "metadata": {},
   "outputs": [
    {
     "name": "stdout",
     "output_type": "stream",
     "text": [
      "car_ID              0\n",
      "symboling           0\n",
      "CarName             0\n",
      "fueltype            0\n",
      "aspiration          0\n",
      "doornumber          0\n",
      "carbody             0\n",
      "drivewheel          0\n",
      "enginelocation      0\n",
      "wheelbase           0\n",
      "carlength           0\n",
      "carwidth            0\n",
      "carheight           0\n",
      "curbweight          0\n",
      "enginetype          0\n",
      "cylindernumber      0\n",
      "enginesize          0\n",
      "fuelsystem          0\n",
      "boreratio           0\n",
      "stroke              0\n",
      "compressionratio    0\n",
      "horsepower          0\n",
      "peakrpm             0\n",
      "citympg             0\n",
      "highwaympg          0\n",
      "price               0\n",
      "dtype: int64\n"
     ]
    }
   ],
   "source": [
    "# Check for missing values in the dataset\n",
    "print(car_data.isnull().sum())\n"
   ]
  },
  {
   "cell_type": "code",
   "execution_count": 61,
   "id": "3f6207ca",
   "metadata": {},
   "outputs": [],
   "source": [
    "# You can handle missing values using methods like filling with mean/median or dropping rows:\n",
    "# Example: car_data.fillna(car_data.mean(), inplace=True)  # Fill missing values with column mean\n"
   ]
  },
  {
   "cell_type": "code",
   "execution_count": 62,
   "id": "2815e38d",
   "metadata": {},
   "outputs": [],
   "source": [
    "# Extract manufacturer from CarName and fix typos\n",
    "car_data['CarManufacturer'] = car_data['CarName'].apply(lambda x: x.split(' ')[0])\n",
    "car_data['CarManufacturer'] = car_data['CarManufacturer'].replace('vokswagen', 'volkswagen')\n"
   ]
  },
  {
   "cell_type": "code",
   "execution_count": 63,
   "id": "da08c010",
   "metadata": {},
   "outputs": [],
   "source": [
    "# Drop the 'CarName' column as it's not needed anymore\n",
    "car_data.drop(columns=['CarName'], inplace=True)"
   ]
  },
  {
   "cell_type": "code",
   "execution_count": 75,
   "id": "1dbb9d18",
   "metadata": {},
   "outputs": [],
   "source": [
    "# Identify the categorical columns to be encoded\n",
    "categorical_cols = ['CarManufacturer', 'fueltype', 'aspiration', 'doornumber', 'carbody', \n",
    "                    'drivewheel', 'enginelocation', 'enginetype', 'cylindernumber', 'fuelsystem']\n"
   ]
  },
  {
   "cell_type": "code",
   "execution_count": 76,
   "id": "6cf1eb07",
   "metadata": {},
   "outputs": [],
   "source": [
    "# Use OneHotEncoder for the categorical columns\n",
    "preprocessor = ColumnTransformer(\n",
    "    transformers=[\n",
    "        ('cat', OneHotEncoder(handle_unknown='ignore'), categorical_cols)],\n",
    "    remainder='passthrough') # Pass other numeric columns as is"
   ]
  },
  {
   "cell_type": "code",
   "execution_count": 77,
   "id": "42ecfa8c",
   "metadata": {},
   "outputs": [],
   "source": [
    "# Split the data into features and target variable\n",
    "X = car_data.drop(columns=['car_ID', 'price'])  # Features (exclude price and ID)\n",
    "y = car_data['price']  # Target variable"
   ]
  },
  {
   "cell_type": "code",
   "execution_count": 78,
   "id": "715dbd11",
   "metadata": {},
   "outputs": [],
   "source": [
    "# Train-test split\n",
    "X_train, X_test, y_train, y_test = train_test_split(X, y, test_size=0.2, random_state=42)"
   ]
  },
  {
   "cell_type": "code",
   "execution_count": 79,
   "id": "a543816f",
   "metadata": {},
   "outputs": [],
   "source": [
    "#Preprocess the data (fit the OneHotEncoder and transform the train and test data)\n",
    "X_train_encoded = preprocessor.fit_transform(X_train)\n",
    "X_test_encoded = preprocessor.transform(X_test)\n",
    "\n"
   ]
  },
  {
   "cell_type": "code",
   "execution_count": 80,
   "id": "3f57642f",
   "metadata": {},
   "outputs": [],
   "source": [
    "# Optional: Feature scaling if needed (for models sensitive to feature magnitude)\n",
    "# from sklearn.preprocessing import StandardScaler\n",
    "# scaler = StandardScaler()\n",
    "# X_train_scaled = scaler.fit_transform(X_train_encoded)\n",
    "# X_test_scaled = scaler.transform(X_test_encoded)"
   ]
  },
  {
   "cell_type": "code",
   "execution_count": 81,
   "id": "7a9e7a52",
   "metadata": {},
   "outputs": [
    {
     "name": "stdout",
     "output_type": "stream",
     "text": [
      "Preprocessing complete. The data is now ready for modeling.\n"
     ]
    }
   ],
   "source": [
    "print(\"Preprocessing complete. The data is now ready for modeling.\")"
   ]
  },
  {
   "cell_type": "code",
   "execution_count": 82,
   "id": "139512f9",
   "metadata": {},
   "outputs": [],
   "source": [
    "# Import necessary libraries for machine learning models\n",
    "from sklearn.linear_model import LinearRegression\n",
    "from sklearn.tree import DecisionTreeRegressor\n",
    "from sklearn.ensemble import RandomForestRegressor, GradientBoostingRegressor\n",
    "from sklearn.svm import SVR\n",
    "from sklearn.metrics import mean_squared_error\n",
    "\n"
   ]
  },
  {
   "cell_type": "code",
   "execution_count": 83,
   "id": "23501f62",
   "metadata": {},
   "outputs": [],
   "source": [
    "# Initialize a dictionary to store the models and their names\n",
    "models = {\n",
    "    \"Linear Regression\": LinearRegression(),\n",
    "    \"Decision Tree Regressor\": DecisionTreeRegressor(random_state=42),\n",
    "    \"Random Forest Regressor\": RandomForestRegressor(random_state=42),\n",
    "    \"Gradient Boosting Regressor\": GradientBoostingRegressor(random_state=42),\n",
    "    \"Support Vector Regressor\": SVR()\n",
    "}"
   ]
  },
  {
   "cell_type": "code",
   "execution_count": 84,
   "id": "f99da0ad",
   "metadata": {},
   "outputs": [
    {
     "name": "stdout",
     "output_type": "stream",
     "text": [
      "Linear Regression RMSE: 1128621088074.4207\n",
      "Decision Tree Regressor RMSE: 2872.3689078490215\n",
      "Random Forest Regressor RMSE: 1813.8210671354655\n",
      "Gradient Boosting Regressor RMSE: 2388.737531308075\n",
      "Support Vector Regressor RMSE: 9327.105508253564\n"
     ]
    }
   ],
   "source": [
    "# Train and evaluate each model\n",
    "results = {}\n",
    "\n",
    "for model_name, model in models.items():\n",
    "    # Train the model\n",
    "    model.fit(X_train_encoded, y_train)\n",
    "    \n",
    "    # Make predictions on the test set\n",
    "    y_pred = model.predict(X_test_encoded)\n",
    "    \n",
    "    # Calculate RMSE\n",
    "    rmse = mean_squared_error(y_test, y_pred, squared=False)\n",
    "    \n",
    "    # Store the results\n",
    "    results[model_name] = rmse\n",
    "    print(f\"{model_name} RMSE: {rmse}\")\n"
   ]
  },
  {
   "cell_type": "code",
   "execution_count": 85,
   "id": "72a9da45",
   "metadata": {},
   "outputs": [
    {
     "name": "stdout",
     "output_type": "stream",
     "text": [
      "\n",
      "Final RMSE results for all models:\n",
      "Linear Regression: 1128621088074.4207\n",
      "Decision Tree Regressor: 2872.3689078490215\n",
      "Random Forest Regressor: 1813.8210671354655\n",
      "Gradient Boosting Regressor: 2388.737531308075\n",
      "Support Vector Regressor: 9327.105508253564\n"
     ]
    }
   ],
   "source": [
    "# Output the final results\n",
    "print(\"\\nFinal RMSE results for all models:\")\n",
    "for model_name, rmse in results.items():\n",
    "    print(f\"{model_name}: {rmse}\")\n"
   ]
  },
  {
   "cell_type": "code",
   "execution_count": 87,
   "id": "05b3d5a1",
   "metadata": {},
   "outputs": [
    {
     "name": "stdout",
     "output_type": "stream",
     "text": [
      "Model Performance Comparison:\n",
      "\n",
      "Linear Regression:\n",
      "R-squared: -16135301271112712.0000\n",
      "MSE: 1273785560446289154408448.0000\n",
      "MAE: 176261002685.2739\n",
      "\n",
      "Decision Tree Regressor:\n",
      "R-squared: 0.8955\n",
      "MSE: 8250503.1428\n",
      "MAE: 1909.0935\n",
      "\n",
      "Random Forest Regressor:\n",
      "R-squared: 0.9583\n",
      "MSE: 3289946.8636\n",
      "MAE: 1280.4588\n",
      "\n",
      "Gradient Boosting Regressor:\n",
      "R-squared: 0.9277\n",
      "MSE: 5706066.9935\n",
      "MAE: 1684.1155\n",
      "\n",
      "Support Vector Regressor:\n",
      "R-squared: -0.1020\n",
      "MSE: 86994897.1621\n",
      "MAE: 5707.1420\n"
     ]
    }
   ],
   "source": [
    "# Import necessary evaluation metrics\n",
    "from sklearn.metrics import r2_score, mean_squared_error, mean_absolute_error\n",
    "\n",
    "# Train and evaluate each model\n",
    "results = {}\n",
    "\n",
    "for model_name, model in models.items():\n",
    "    # Train the model\n",
    "    model.fit(X_train_encoded, y_train)\n",
    "    \n",
    "    # Make predictions on the test set\n",
    "    y_pred = model.predict(X_test_encoded)\n",
    "\n",
    "# Calculate R-squared, MSE, and MAE\n",
    "    r2 = r2_score(y_test, y_pred)\n",
    "    mse = mean_squared_error(y_test, y_pred)\n",
    "    mae = mean_absolute_error(y_test, y_pred)\n",
    "    \n",
    "    # Store the results in the dictionary\n",
    "    results[model_name] = {\n",
    "        \"R-squared\": r2,\n",
    "        \"MSE\": mse,\n",
    "        \"MAE\": mae\n",
    "    }\n",
    "    \n",
    "    # Display the results for all models\n",
    "print(\"Model Performance Comparison:\")\n",
    "for model_name, metrics in results.items():\n",
    "    print(f\"\\n{model_name}:\")\n",
    "    print(f\"R-squared: {metrics['R-squared']:.4f}\")\n",
    "    print(f\"MSE: {metrics['MSE']:.4f}\")\n",
    "    print(f\"MAE: {metrics['MAE']:.4f}\")"
   ]
  },
  {
   "cell_type": "code",
   "execution_count": 88,
   "id": "d79cadfc",
   "metadata": {},
   "outputs": [
    {
     "data": {
      "image/png": "[encoded data removed]",
      "text/plain": [
       "<Figure size 1000x600 with 1 Axes>"
      ]
     },
     "metadata": {},
     "output_type": "display_data"
    },
    {
     "name": "stdout",
     "output_type": "stream",
     "text": [
      "Top 10 Features with Highest Coefficients in Linear Regression:\n",
      "                       Feature   Coefficient\n",
      "6        CarManufacturer_dodge -1.276160e+13\n",
      "13  CarManufacturer_mitsubishi -1.276160e+13\n",
      "16    CarManufacturer_plymouth -1.276160e+13\n",
      "23     CarManufacturer_toyouta -1.276160e+13\n",
      "5    CarManufacturer_chevrolet -1.276160e+13\n",
      "12     CarManufacturer_mercury -1.276160e+13\n",
      "22      CarManufacturer_toyota -1.276160e+13\n",
      "19     CarManufacturer_renault -1.276160e+13\n",
      "10       CarManufacturer_maxda -1.276160e+13\n",
      "0       CarManufacturer_Nissan -1.276160e+13\n",
      "\n",
      "Top 10 Selected Features from RFE:\n",
      "['CarManufacturer_bmw' 'CarManufacturer_buick' 'CarManufacturer_jaguar'\n",
      " 'CarManufacturer_subaru' 'enginelocation_front' 'enginelocation_rear'\n",
      " 'cylindernumber_eight' 'cylindernumber_four' 'fuelsystem_4bbl'\n",
      " 'boreratio']\n"
     ]
    }
   ],
   "source": [
    "import numpy as np\n",
    "import matplotlib.pyplot as plt\n",
    "from sklearn.feature_selection import RFE\n",
    "\n",
    "# Step 1: Feature Importance using Random Forest\n",
    "# Fit the Random Forest model\n",
    "rf_model = RandomForestRegressor(random_state=42)\n",
    "rf_model.fit(X_train_encoded, y_train)\n",
    "\n",
    "# Get feature importance from the Random Forest model\n",
    "feature_importances = rf_model.feature_importances_\n",
    "\n",
    "# Get feature names from the preprocessor (OneHotEncoder)\n",
    "encoded_feature_names = preprocessor.named_transformers_['cat'].get_feature_names_out(categorical_cols)\n",
    "all_feature_names = list(encoded_feature_names) + [col for col in X_train.columns if col not in categorical_cols]\n",
    "\n",
    "# Step 2: Visualize feature importance\n",
    "importance_df = pd.DataFrame({\n",
    "    'Feature': all_feature_names,\n",
    "    'Importance': feature_importances\n",
    "}).sort_values(by='Importance', ascending=False)\n",
    "\n",
    "# Plot the top 10 most important features\n",
    "plt.figure(figsize=(10, 6))\n",
    "plt.barh(importance_df['Feature'][:10], importance_df['Importance'][:10])\n",
    "plt.xlabel('Feature Importance')\n",
    "plt.ylabel('Features')\n",
    "plt.title('Top 10 Important Features from Random Forest')\n",
    "plt.gca().invert_yaxis()\n",
    "plt.show()\n",
    "\n",
    "# Step 3: Coefficients from Linear Regression\n",
    "# Fit the Linear Regression model\n",
    "linear_model = LinearRegression()\n",
    "linear_model.fit(X_train_encoded, y_train)\n",
    "\n",
    "# Get coefficients from the linear regression model\n",
    "coefficients = linear_model.coef_\n",
    "\n",
    "# Create a DataFrame to display feature names and their corresponding coefficients\n",
    "coeff_df = pd.DataFrame({\n",
    "    'Feature': all_feature_names,\n",
    "    'Coefficient': coefficients\n",
    "}).sort_values(by='Coefficient', ascending=False, key=abs)\n",
    "\n",
    "# Display the top 10 features with highest absolute coefficients\n",
    "print(\"Top 10 Features with Highest Coefficients in Linear Regression:\")\n",
    "print(coeff_df.head(10))\n",
    "\n",
    "# Step 4: Recursive Feature Elimination (RFE) with Linear Regression\n",
    "# Using RFE to select the top features\n",
    "rfe = RFE(estimator=LinearRegression(), n_features_to_select=10)\n",
    "rfe.fit(X_train_encoded, y_train)\n",
    "\n",
    "# Get the top selected features\n",
    "selected_features_rfe = np.array(all_feature_names)[rfe.support_]\n",
    "\n",
    "print(\"\\nTop 10 Selected Features from RFE:\")\n",
    "print(selected_features_rfe)\n"
   ]
  },
  {
   "cell_type": "code",
   "execution_count": 89,
   "id": "20ea610d",
   "metadata": {},
   "outputs": [
    {
     "name": "stdout",
     "output_type": "stream",
     "text": [
      "Fitting 5 folds for each of 108 candidates, totalling 540 fits\n",
      "Fitting 5 folds for each of 54 candidates, totalling 270 fits\n",
      "Best parameters for Random Forest: {'max_depth': None, 'min_samples_leaf': 1, 'min_samples_split': 2, 'n_estimators': 300}\n",
      "Best RMSE score for Random Forest: 2411.2620111214005\n",
      "Best parameters for Gradient Boosting: {'learning_rate': 0.1, 'max_depth': 3, 'n_estimators': 300, 'subsample': 0.8}\n",
      "Best RMSE score for Gradient Boosting: 2356.062494864807\n",
      "\n",
      "Random Forest (Tuned) Performance:\n",
      "R-squared: 0.9584\n",
      "MSE: 3286942.9741\n",
      "MAE: 1241.6164\n",
      "\n",
      "Gradient Boosting (Tuned) Performance:\n",
      "R-squared: 0.9410\n",
      "MSE: 4658494.2375\n",
      "MAE: 1547.3237\n"
     ]
    }
   ],
   "source": [
    "from sklearn.model_selection import GridSearchCV\n",
    "\n",
    "# Step 1: Define the parameter grid for Random Forest and Gradient Boosting\n",
    "param_grid_rf = {\n",
    "    'n_estimators': [100, 200, 300],\n",
    "    'max_depth': [None, 10, 20, 30],\n",
    "    'min_samples_split': [2, 5, 10],\n",
    "    'min_samples_leaf': [1, 2, 4]\n",
    "}\n",
    "\n",
    "param_grid_gbr = {\n",
    "    'n_estimators': [100, 200, 300],\n",
    "    'learning_rate': [0.01, 0.1, 0.05],\n",
    "    'max_depth': [3, 5, 7],\n",
    "    'subsample': [0.8, 1.0]\n",
    "}\n",
    "\n",
    "# Step 2: Hyperparameter tuning using GridSearchCV for Random Forest\n",
    "grid_search_rf = GridSearchCV(estimator=RandomForestRegressor(random_state=42), \n",
    "                              param_grid=param_grid_rf, \n",
    "                              scoring='neg_mean_squared_error', \n",
    "                              cv=5, \n",
    "                              verbose=1, \n",
    "                              n_jobs=-1)\n",
    "\n",
    "# Fit the GridSearch for Random Forest\n",
    "grid_search_rf.fit(X_train_encoded, y_train)\n",
    "\n",
    "# Step 3: Hyperparameter tuning using GridSearchCV for Gradient Boosting\n",
    "grid_search_gbr = GridSearchCV(estimator=GradientBoostingRegressor(random_state=42), \n",
    "                               param_grid=param_grid_gbr, \n",
    "                               scoring='neg_mean_squared_error', \n",
    "                               cv=5, \n",
    "                               verbose=1, \n",
    "                               n_jobs=-1)\n",
    "\n",
    "# Fit the GridSearch for Gradient Boosting\n",
    "grid_search_gbr.fit(X_train_encoded, y_train)\n",
    "\n",
    "# Step 4: Display the best hyperparameters and best scores\n",
    "print(\"Best parameters for Random Forest:\", grid_search_rf.best_params_)\n",
    "print(\"Best RMSE score for Random Forest:\", (-grid_search_rf.best_score_)**0.5)\n",
    "\n",
    "print(\"Best parameters for Gradient Boosting:\", grid_search_gbr.best_params_)\n",
    "print(\"Best RMSE score for Gradient Boosting:\", (-grid_search_gbr.best_score_)**0.5)\n",
    "\n",
    "# Step 5: Evaluate performance of the tuned models on the test set\n",
    "best_rf = grid_search_rf.best_estimator_\n",
    "best_gbr = grid_search_gbr.best_estimator_\n",
    "\n",
    "# Predict on test data\n",
    "y_pred_rf = best_rf.predict(X_test_encoded)\n",
    "y_pred_gbr = best_gbr.predict(X_test_encoded)\n",
    "\n",
    "# Calculate metrics for Random Forest\n",
    "r2_rf = r2_score(y_test, y_pred_rf)\n",
    "mse_rf = mean_squared_error(y_test, y_pred_rf)\n",
    "mae_rf = mean_absolute_error(y_test, y_pred_rf)\n",
    "\n",
    "print(\"\\nRandom Forest (Tuned) Performance:\")\n",
    "print(f\"R-squared: {r2_rf:.4f}\")\n",
    "print(f\"MSE: {mse_rf:.4f}\")\n",
    "print(f\"MAE: {mae_rf:.4f}\")\n",
    "\n",
    "# Calculate metrics for Gradient Boosting\n",
    "r2_gbr = r2_score(y_test, y_pred_gbr)\n",
    "mse_gbr = mean_squared_error(y_test, y_pred_gbr)\n",
    "mae_gbr = mean_absolute_error(y_test, y_pred_gbr)\n",
    "\n",
    "print(\"\\nGradient Boosting (Tuned) Performance:\")\n",
    "print(f\"R-squared: {r2_gbr:.4f}\")\n",
    "print(f\"MSE: {mse_gbr:.4f}\")\n",
    "print(f\"MAE: {mae_gbr:.4f}\")\n"
   ]
  },
  {
   "cell_type": "code",
   "execution_count": null,
   "id": "d6addd8b",
   "metadata": {},
   "outputs": [],
   "source": []
  }
 ],
 "metadata": {
  "kernelspec": {
   "display_name": "Python 3 (ipykernel)",
   "language": "python",
   "name": "python3"
  },
  "language_info": {
   "codemirror_mode": {
    "name": "ipython",
    "version": 3
   },
   "file_extension": ".py",
   "mimetype": "text/x-python",
   "name": "python",
   "nbconvert_exporter": "python",
   "pygments_lexer": "ipython3",
   "version": "3.10.9"
  }
 },
 "nbformat": 4,
 "nbformat_minor": 5
}
